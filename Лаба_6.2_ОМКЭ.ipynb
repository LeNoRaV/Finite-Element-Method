{
  "nbformat": 4,
  "nbformat_minor": 0,
  "metadata": {
    "colab": {
      "provenance": []
    },
    "kernelspec": {
      "name": "python3",
      "display_name": "Python 3"
    },
    "language_info": {
      "name": "python"
    }
  },
  "cells": [
    {
      "cell_type": "code",
      "source": [
        "import math\n",
        "import numpy as np\n",
        "import pandas as pd\n",
        "from sympy import diff, symbols\n",
        "from scipy import integrate\n",
        "import sympy as sym\n",
        "x = symbols('x')"
      ],
      "metadata": {
        "id": "hjb_x8hNZnfI"
      },
      "execution_count": null,
      "outputs": []
    },
    {
      "cell_type": "code",
      "execution_count": null,
      "metadata": {
        "id": "5aMOrTLlZOyV"
      },
      "outputs": [],
      "source": [
        "T_q=150\n",
        "a_g=10\n",
        "T_g=40\n",
        "K=72\n",
        "L=7.5\n",
        "R=1\n",
        "H=L/2\n",
        "S=math.pi*R**2\n",
        "P=2*math.pi*R"
      ]
    },
    {
      "cell_type": "code",
      "source": [
        "psi=[-0.861136, 0.861136, -0.339981, 0.339981]\n",
        "w=[0.347855,0.347855, 0.652145, 0.652145]\n",
        "J=H/2"
      ],
      "metadata": {
        "id": "8rBN20MNjKuz"
      },
      "execution_count": null,
      "outputs": []
    },
    {
      "cell_type": "code",
      "source": [
        "N_symbol=[]\n",
        "\n",
        "N_symbol.append(-9/16*(1/9-x**2)*(1-x))\n",
        "N_symbol.append(27/16*(1/3-x)*(1-x**2))\n",
        "N_symbol.append(27/16*(1/3+x)*(1-x**2))\n",
        "N_symbol.append(-9/16*(1/9-x**2)*(1+x))\n",
        "N_symbol"
      ],
      "metadata": {
        "colab": {
          "base_uri": "https://localhost:8080/"
        },
        "id": "XLqVQkTrhBMB",
        "outputId": "f267792e-fd43-42b8-b7ab-45c9aca5c243"
      },
      "execution_count": null,
      "outputs": [
        {
          "output_type": "execute_result",
          "data": {
            "text/plain": [
              "[(1 - x)*(0.5625*x**2 - 0.0625),\n",
              " (0.5625 - 1.6875*x)*(1 - x**2),\n",
              " (1 - x**2)*(1.6875*x + 0.5625),\n",
              " (x + 1)*(0.5625*x**2 - 0.0625)]"
            ]
          },
          "metadata": {},
          "execution_count": 127
        }
      ]
    },
    {
      "cell_type": "code",
      "source": [
        "N_mat=[]\n",
        "for i in range(4):\n",
        "  buf=[]\n",
        "  for j in range(4):\n",
        "    buf.append(N_symbol[i]*N_symbol[j]*J)\n",
        "  N_mat.append(buf)\n",
        "N_mat"
      ],
      "metadata": {
        "colab": {
          "base_uri": "https://localhost:8080/"
        },
        "id": "8jR8A0HXhklS",
        "outputId": "bb5126f9-3fb8-4a60-8637-8c565cac37e8"
      },
      "execution_count": null,
      "outputs": [
        {
          "output_type": "execute_result",
          "data": {
            "text/plain": [
              "[[0.59326171875*(1 - x)**2*(x**2 - 0.111111111111111)**2,\n",
              "  1.875*(0.5625 - 1.6875*x)*(1 - x)*(1 - x**2)*(0.5625*x**2 - 0.0625),\n",
              "  1.875*(1 - x)*(1 - x**2)*(1.6875*x + 0.5625)*(0.5625*x**2 - 0.0625),\n",
              "  0.59326171875*(1 - x)*(x + 1)*(x**2 - 0.111111111111111)**2],\n",
              " [1.875*(0.5625 - 1.6875*x)*(1 - x)*(1 - x**2)*(0.5625*x**2 - 0.0625),\n",
              "  5.33935546875*(0.333333333333333 - x)**2*(1 - x**2)**2,\n",
              "  1.875*(0.5625 - 1.6875*x)*(1 - x**2)**2*(1.6875*x + 0.5625),\n",
              "  1.875*(0.5625 - 1.6875*x)*(1 - x**2)*(x + 1)*(0.5625*x**2 - 0.0625)],\n",
              " [1.875*(1 - x)*(1 - x**2)*(1.6875*x + 0.5625)*(0.5625*x**2 - 0.0625),\n",
              "  1.875*(0.5625 - 1.6875*x)*(1 - x**2)**2*(1.6875*x + 0.5625),\n",
              "  5.33935546875*(1 - x**2)**2*(x + 0.333333333333333)**2,\n",
              "  1.875*(1 - x**2)*(x + 1)*(1.6875*x + 0.5625)*(0.5625*x**2 - 0.0625)],\n",
              " [0.59326171875*(1 - x)*(x + 1)*(x**2 - 0.111111111111111)**2,\n",
              "  1.875*(0.5625 - 1.6875*x)*(1 - x**2)*(x + 1)*(0.5625*x**2 - 0.0625),\n",
              "  1.875*(1 - x**2)*(x + 1)*(1.6875*x + 0.5625)*(0.5625*x**2 - 0.0625),\n",
              "  0.59326171875*(x + 1)**2*(x**2 - 0.111111111111111)**2]]"
            ]
          },
          "metadata": {},
          "execution_count": 128
        }
      ]
    },
    {
      "cell_type": "code",
      "source": [
        "N_solve=np.zeros((4,4))\n",
        "for i in range(4):\n",
        "  for j in range(4):\n",
        "    for k in range(4):\n",
        "      N_solve[i][j]+=N_mat[i][j].subs({x:psi[k]})*w[k]\n",
        "N_solve"
      ],
      "metadata": {
        "colab": {
          "base_uri": "https://localhost:8080/"
        },
        "id": "m-VCle44k4vs",
        "outputId": "0e178d37-f032-4abc-92a3-2574e7de7d34"
      },
      "execution_count": null,
      "outputs": [
        {
          "output_type": "execute_result",
          "data": {
            "text/plain": [
              "array([[ 0.28571384,  0.22098237, -0.08035719,  0.04241075],\n",
              "       [ 0.22098237,  1.44642904, -0.18080399, -0.08035719],\n",
              "       [-0.08035719, -0.18080399,  1.44642904,  0.22098237],\n",
              "       [ 0.04241075, -0.08035719,  0.22098237,  0.28571384]])"
            ]
          },
          "metadata": {},
          "execution_count": 129
        }
      ]
    },
    {
      "cell_type": "code",
      "source": [
        "B_symbol=[]\n",
        "for i in range (4):\n",
        "  B_symbol.append(diff(N_symbol[i],x)*2/H)\n",
        "B_symbol"
      ],
      "metadata": {
        "colab": {
          "base_uri": "https://localhost:8080/"
        },
        "id": "7s8QUCuohdfZ",
        "outputId": "fbbe23a7-55e9-450f-c0c0-f63b19c24861"
      },
      "execution_count": null,
      "outputs": [
        {
          "output_type": "execute_result",
          "data": {
            "text/plain": [
              "[-0.3*x**2 + 0.6*x*(1 - x) + 0.0333333333333333,\n",
              " 0.9*x**2 - 1.06666666666667*x*(0.5625 - 1.6875*x) - 0.9,\n",
              " -0.9*x**2 - 1.06666666666667*x*(1.6875*x + 0.5625) + 0.9,\n",
              " 0.3*x**2 + 0.6*x*(x + 1) - 0.0333333333333333]"
            ]
          },
          "metadata": {},
          "execution_count": 130
        }
      ]
    },
    {
      "cell_type": "code",
      "source": [
        "B_mat=[]\n",
        "for i in range(4):\n",
        "  buf=[]\n",
        "  for j in range(4):\n",
        "    buf.append(B_symbol[i]*B_symbol[j]*J)\n",
        "  B_mat.append(buf)\n",
        "B_mat"
      ],
      "metadata": {
        "colab": {
          "base_uri": "https://localhost:8080/"
        },
        "id": "gJE4_FX8hlK9",
        "outputId": "136a2d2e-15a3-412e-cc69-ab8688850453"
      },
      "execution_count": null,
      "outputs": [
        {
          "output_type": "execute_result",
          "data": {
            "text/plain": [
              "[[0.675*(-0.5*x**2 + x*(1 - x) + 0.0555555555555556)**2,\n",
              "  1.875*(-0.3*x**2 + 0.6*x*(1 - x) + 0.0333333333333333)*(0.9*x**2 - 1.06666666666667*x*(0.5625 - 1.6875*x) - 0.9),\n",
              "  1.875*(-0.9*x**2 - 1.06666666666667*x*(1.6875*x + 0.5625) + 0.9)*(-0.3*x**2 + 0.6*x*(1 - x) + 0.0333333333333333),\n",
              "  1.875*(-0.3*x**2 + 0.6*x*(1 - x) + 0.0333333333333333)*(0.3*x**2 + 0.6*x*(x + 1) - 0.0333333333333333)],\n",
              " [1.875*(-0.3*x**2 + 0.6*x*(1 - x) + 0.0333333333333333)*(0.9*x**2 - 1.06666666666667*x*(0.5625 - 1.6875*x) - 0.9),\n",
              "  2.13333333333333*(0.84375*x**2 - x*(0.5625 - 1.6875*x) - 0.84375)**2,\n",
              "  1.875*(-0.9*x**2 - 1.06666666666667*x*(1.6875*x + 0.5625) + 0.9)*(0.9*x**2 - 1.06666666666667*x*(0.5625 - 1.6875*x) - 0.9),\n",
              "  1.875*(0.3*x**2 + 0.6*x*(x + 1) - 0.0333333333333333)*(0.9*x**2 - 1.06666666666667*x*(0.5625 - 1.6875*x) - 0.9)],\n",
              " [1.875*(-0.9*x**2 - 1.06666666666667*x*(1.6875*x + 0.5625) + 0.9)*(-0.3*x**2 + 0.6*x*(1 - x) + 0.0333333333333333),\n",
              "  1.875*(-0.9*x**2 - 1.06666666666667*x*(1.6875*x + 0.5625) + 0.9)*(0.9*x**2 - 1.06666666666667*x*(0.5625 - 1.6875*x) - 0.9),\n",
              "  2.13333333333333*(-0.84375*x**2 - x*(1.6875*x + 0.5625) + 0.84375)**2,\n",
              "  1.875*(-0.9*x**2 - 1.06666666666667*x*(1.6875*x + 0.5625) + 0.9)*(0.3*x**2 + 0.6*x*(x + 1) - 0.0333333333333333)],\n",
              " [1.875*(-0.3*x**2 + 0.6*x*(1 - x) + 0.0333333333333333)*(0.3*x**2 + 0.6*x*(x + 1) - 0.0333333333333333),\n",
              "  1.875*(0.3*x**2 + 0.6*x*(x + 1) - 0.0333333333333333)*(0.9*x**2 - 1.06666666666667*x*(0.5625 - 1.6875*x) - 0.9),\n",
              "  1.875*(-0.9*x**2 - 1.06666666666667*x*(1.6875*x + 0.5625) + 0.9)*(0.3*x**2 + 0.6*x*(x + 1) - 0.0333333333333333),\n",
              "  0.675*(0.5*x**2 + x*(x + 1) - 0.0555555555555556)**2]]"
            ]
          },
          "metadata": {},
          "execution_count": 131
        }
      ]
    },
    {
      "cell_type": "code",
      "source": [
        "B_solve=np.zeros((4,4))\n",
        "for i in range(4):\n",
        "  for j in range(4):\n",
        "    for k in range(4):\n",
        "      B_solve[i][j]+=B_mat[i][j].subs({x:psi[k]})*w[k]\n",
        "B_solve"
      ],
      "metadata": {
        "colab": {
          "base_uri": "https://localhost:8080/"
        },
        "id": "HjaEh9VrCwlH",
        "outputId": "74a7f8ac-9a55-4811-db26-793cb504fe9f"
      },
      "execution_count": null,
      "outputs": [
        {
          "output_type": "execute_result",
          "data": {
            "text/plain": [
              "array([[ 0.98666594, -1.25999841,  0.35999871, -0.08666624],\n",
              "       [-1.25999841,  2.87999642, -1.97999672,  0.35999871],\n",
              "       [ 0.35999871, -1.97999672,  2.87999642, -1.25999841],\n",
              "       [-0.08666624,  0.35999871, -1.25999841,  0.98666594]])"
            ]
          },
          "metadata": {},
          "execution_count": 132
        }
      ]
    },
    {
      "cell_type": "code",
      "source": [
        "k=np.zeros((2,4,4))\n",
        "f=np.zeros((2,4))"
      ],
      "metadata": {
        "id": "D1nEBjupdsk8"
      },
      "execution_count": null,
      "outputs": []
    },
    {
      "cell_type": "code",
      "source": [
        "for i in range(4):\n",
        "  for j in range(4):\n",
        "    k[0][i][j]=S*K*B_solve[i][j]+a_g*P*N_solve[i][j]\n",
        "k[1]=k[0]\n",
        "k[1][3][3]+=a_g*S\n",
        "k"
      ],
      "metadata": {
        "colab": {
          "base_uri": "https://localhost:8080/"
        },
        "id": "3F6VoUztDMJm",
        "outputId": "736bc029-4c15-4dee-ed58-126ee6067f33"
      },
      "execution_count": null,
      "outputs": [
        {
          "output_type": "execute_result",
          "data": {
            "text/plain": [
              "array([[[ 241.13050806, -271.12019518,   76.38079866,  -16.93869487],\n",
              "        [-271.12019518,  742.32165999, -459.22495563,   76.38079866],\n",
              "        [  76.38079866, -459.22495563,  742.32165999, -271.12019518],\n",
              "        [ -16.93869487,   76.38079866, -271.12019518,  241.13050806]],\n",
              "\n",
              "       [[ 241.13050806, -271.12019518,   76.38079866,  -16.93869487],\n",
              "        [-271.12019518,  742.32165999, -459.22495563,   76.38079866],\n",
              "        [  76.38079866, -459.22495563,  742.32165999, -271.12019518],\n",
              "        [ -16.93869487,   76.38079866, -271.12019518,  272.5464346 ]]])"
            ]
          },
          "metadata": {},
          "execution_count": 134
        }
      ]
    },
    {
      "cell_type": "code",
      "source": [
        "K_glob=np.zeros((7,7))\n",
        "for i in range(4):\n",
        "  for j in range(4):\n",
        "    K_glob[i][j]+=k[0][i][j]\n",
        "    K_glob[i+3][j+3]+=k[1][i][j]\n",
        "for j in range(7):\n",
        "    K_glob[0][j]=0\n",
        "K_glob[0][0]=1\n",
        "df = pd.DataFrame(K_glob)\n",
        "print(df)"
      ],
      "metadata": {
        "colab": {
          "base_uri": "https://localhost:8080/"
        },
        "id": "CHs8Sdduoz-T",
        "outputId": "5d458e4b-e5f6-4ff5-c2ac-cda2d169ee40"
      },
      "execution_count": null,
      "outputs": [
        {
          "output_type": "stream",
          "name": "stdout",
          "text": [
            "            0           1           2           3           4           5  \\\n",
            "0    1.000000    0.000000    0.000000    0.000000    0.000000    0.000000   \n",
            "1 -271.120195  742.321660 -459.224956   76.380799    0.000000    0.000000   \n",
            "2   76.380799 -459.224956  742.321660 -271.120195    0.000000    0.000000   \n",
            "3  -16.938695   76.380799 -271.120195  482.261016 -271.120195   76.380799   \n",
            "4    0.000000    0.000000    0.000000 -271.120195  742.321660 -459.224956   \n",
            "5    0.000000    0.000000    0.000000   76.380799 -459.224956  742.321660   \n",
            "6    0.000000    0.000000    0.000000  -16.938695   76.380799 -271.120195   \n",
            "\n",
            "            6  \n",
            "0    0.000000  \n",
            "1    0.000000  \n",
            "2    0.000000  \n",
            "3  -16.938695  \n",
            "4   76.380799  \n",
            "5 -271.120195  \n",
            "6  272.546435  \n"
          ]
        }
      ]
    },
    {
      "cell_type": "code",
      "source": [
        "sym.integrate(N_symbol[i], (x, -1, 1))"
      ],
      "metadata": {
        "colab": {
          "base_uri": "https://localhost:8080/",
          "height": 37
        },
        "id": "8CQv_hqCJ7OZ",
        "outputId": "6d4e2986-8b62-4a60-c280-f0c412fdf349"
      },
      "execution_count": null,
      "outputs": [
        {
          "output_type": "execute_result",
          "data": {
            "text/plain": [
              "0.250000000000000"
            ],
            "text/latex": "$\\displaystyle 0.25$"
          },
          "metadata": {},
          "execution_count": 136
        }
      ]
    },
    {
      "cell_type": "code",
      "source": [
        "n_solve=np.zeros((4))\n",
        "for i in range(4):\n",
        "  for k in range(4):\n",
        "    n_solve[i]+=(N_symbol[i]*J).subs({x:psi[k]})*w[k]\n",
        "n_solve"
      ],
      "metadata": {
        "colab": {
          "base_uri": "https://localhost:8080/"
        },
        "id": "nopjlkK-GAzv",
        "outputId": "fa4ccb2f-c2be-4f85-bff2-e890e37c9d21"
      },
      "execution_count": null,
      "outputs": [
        {
          "output_type": "execute_result",
          "data": {
            "text/plain": [
              "array([0.46874977, 1.40625023, 1.40625023, 0.46874977])"
            ]
          },
          "metadata": {},
          "execution_count": 137
        }
      ]
    },
    {
      "cell_type": "code",
      "source": [
        "n_solve=np.zeros((4))\n",
        "for i in range(4):\n",
        "  for k in range(4):\n",
        "    n_solve[i]=sym.integrate(N_symbol[i]*J, (x, -1, 1))\n",
        "n_solve"
      ],
      "metadata": {
        "colab": {
          "base_uri": "https://localhost:8080/"
        },
        "id": "UTk6p-JnQi-k",
        "outputId": "b8730f11-77ce-456b-d874-fb256a566ac4"
      },
      "execution_count": null,
      "outputs": [
        {
          "output_type": "execute_result",
          "data": {
            "text/plain": [
              "array([0.46875, 1.40625, 1.40625, 0.46875])"
            ]
          },
          "metadata": {},
          "execution_count": 138
        }
      ]
    },
    {
      "cell_type": "code",
      "source": [
        "for i in range(4):\n",
        "  f[0][i]=a_g*P*T_g*n_solve[i]\n",
        "f[1]=f[0]\n",
        "f[1][3]+=a_g*S*T_g\n",
        "f"
      ],
      "metadata": {
        "colab": {
          "base_uri": "https://localhost:8080/"
        },
        "id": "9Fx15XhnmuGq",
        "outputId": "237278e7-e672-4be0-a200-34509d0a0cd4"
      },
      "execution_count": null,
      "outputs": [
        {
          "output_type": "execute_result",
          "data": {
            "text/plain": [
              "array([[1178.0972451 , 3534.29173529, 3534.29173529, 1178.0972451 ],\n",
              "       [1178.0972451 , 3534.29173529, 3534.29173529, 2434.73430653]])"
            ]
          },
          "metadata": {},
          "execution_count": 139
        }
      ]
    },
    {
      "cell_type": "code",
      "source": [
        "F_glob=np.zeros(7)\n",
        "for j in range(4):\n",
        "    F_glob[j]+=f[0][j]\n",
        "    F_glob[j+3]+=f[1][j]\n",
        "F_glob[0]=150\n",
        "F_glob"
      ],
      "metadata": {
        "colab": {
          "base_uri": "https://localhost:8080/"
        },
        "id": "4SFADYi4rmgB",
        "outputId": "ce2fd1d2-511b-4f61-8d25-f215572ab427"
      },
      "execution_count": null,
      "outputs": [
        {
          "output_type": "execute_result",
          "data": {
            "text/plain": [
              "array([ 150.        , 3534.29173529, 3534.29173529, 2356.19449019,\n",
              "       3534.29173529, 3534.29173529, 2434.73430653])"
            ]
          },
          "metadata": {},
          "execution_count": 140
        }
      ]
    },
    {
      "cell_type": "code",
      "source": [
        "T=np.linalg.inv(K_glob)@F_glob\n",
        "T"
      ],
      "metadata": {
        "colab": {
          "base_uri": "https://localhost:8080/"
        },
        "id": "NQNHojhQtJ7C",
        "outputId": "459dc82b-c2e1-412b-b21c-a8df1d1b95ff"
      },
      "execution_count": null,
      "outputs": [
        {
          "output_type": "execute_result",
          "data": {
            "text/plain": [
              "array([150.        ,  96.81016329,  69.45041766,  55.3988036 ,\n",
              "        48.18848558,  44.70035851,  43.33798262])"
            ]
          },
          "metadata": {},
          "execution_count": 141
        }
      ]
    }
  ]
}