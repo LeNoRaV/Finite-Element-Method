{
  "nbformat": 4,
  "nbformat_minor": 0,
  "metadata": {
    "colab": {
      "provenance": []
    },
    "kernelspec": {
      "name": "python3",
      "display_name": "Python 3"
    },
    "language_info": {
      "name": "python"
    }
  },
  "cells": [
    {
      "cell_type": "code",
      "execution_count": null,
      "metadata": {
        "id": "k5cK4frPPRkW"
      },
      "outputs": [],
      "source": [
        "import math\n",
        "import numpy as np\n",
        "import pandas as pd"
      ]
    },
    {
      "cell_type": "code",
      "source": [
        "def init_B(B, Y, X, z, S):\n",
        "\tb = [Y[1] - Y[2], Y[2] - Y[0], Y[0] - Y[1]]\n",
        "\tc = [X[2] - X[1], X[0] - X[2], X[1] - X[0]]\n",
        "\tbuf =[ [b[0], 0, b[1], 0, b[2], 0], [ 0, c[0], 0, c[1], 0, c[2] ], [ c[0], b[0], c[1], b[1], c[2], b[2] ] ]\n",
        "\tfor i in range(3):\n",
        "\t\tfor j in range(6):\n",
        "\t\t\tB[z][i][j] = buf[i][j]/(2*S)\n",
        "\n",
        "def print_N(Y, X, S):\n",
        "\tb = [Y[1] - Y[2], Y[2] - Y[0], Y[0] - Y[1]]\n",
        "\tc = [X[2] - X[1], X[0] - X[2], X[1] - X[0]]\n",
        "\ta = [X[1]*Y[2] - X[2]*Y[1], X[2]*Y[0] - X[0]*Y[2], X[0]*Y[1] - X[1]*Y[0]]\n",
        "\tfor i in range(3): print(a[i]/(2*S), b[i]/(2*S),c[i]/(2*S))"
      ],
      "metadata": {
        "id": "0zxzxQm4yStM"
      },
      "execution_count": null,
      "outputs": []
    },
    {
      "cell_type": "code",
      "source": [
        "E=6*10**6\n",
        "mu=0.25\n",
        "F=20\n",
        "t=2\n",
        "S=9/2"
      ],
      "metadata": {
        "id": "DYvJRNGcWZNs"
      },
      "execution_count": null,
      "outputs": []
    },
    {
      "cell_type": "code",
      "source": [
        "B = []\n",
        "for i in range(4):\n",
        "  Buf=[]\n",
        "  for j in range(3):\n",
        "    Buf.append([0]*6)\n",
        "  B.append(Buf)\n",
        "D = [ [0]*3 for i in range(3) ]"
      ],
      "metadata": {
        "id": "0U45uYyl1UKl"
      },
      "execution_count": null,
      "outputs": []
    },
    {
      "cell_type": "code",
      "source": [
        "buf1=[1,mu, 0,mu,1,0,0,0,(1-mu)/2]\n",
        "for i in range(3):\n",
        "  for j in range(3):\n",
        "    D[i][j]=buf1[i*3+j]*E/(1-mu**2)\n",
        "D"
      ],
      "metadata": {
        "id": "W5RneM4qVO_G",
        "colab": {
          "base_uri": "https://localhost:8080/"
        },
        "outputId": "04a7eecb-fa4a-49f7-e390-4e84570486a7"
      },
      "execution_count": null,
      "outputs": [
        {
          "output_type": "execute_result",
          "data": {
            "text/plain": [
              "[[6400000.0, 1600000.0, 0.0],\n",
              " [1600000.0, 6400000.0, 0.0],\n",
              " [0.0, 0.0, 2400000.0]]"
            ]
          },
          "metadata": {},
          "execution_count": 269
        }
      ]
    },
    {
      "cell_type": "code",
      "source": [
        "X = [[0,3,0], [0,3,3], [3,6,3], [3,6,6]]\n",
        "Y = [[0,0,3], [3,0,3], [0,0,3], [3,0,3]]"
      ],
      "metadata": {
        "id": "oQtcC8eTW9_s"
      },
      "execution_count": null,
      "outputs": []
    },
    {
      "cell_type": "code",
      "source": [
        "for z in range(4):\n",
        "  init_B(B,Y[z],X[z],z, S)\n",
        "B"
      ],
      "metadata": {
        "id": "yrfD0K0yXrB3",
        "colab": {
          "base_uri": "https://localhost:8080/"
        },
        "outputId": "0bf97f70-b36f-4e14-896b-ef638141f7bb"
      },
      "execution_count": null,
      "outputs": [
        {
          "output_type": "execute_result",
          "data": {
            "text/plain": [
              "[[[-0.3333333333333333, 0.0, 0.3333333333333333, 0.0, 0.0, 0.0],\n",
              "  [0.0, -0.3333333333333333, 0.0, 0.0, 0.0, 0.3333333333333333],\n",
              "  [-0.3333333333333333,\n",
              "   -0.3333333333333333,\n",
              "   0.0,\n",
              "   0.3333333333333333,\n",
              "   0.3333333333333333,\n",
              "   0.0]],\n",
              " [[-0.3333333333333333, 0.0, 0.0, 0.0, 0.3333333333333333, 0.0],\n",
              "  [0.0, 0.0, 0.0, -0.3333333333333333, 0.0, 0.3333333333333333],\n",
              "  [0.0,\n",
              "   -0.3333333333333333,\n",
              "   -0.3333333333333333,\n",
              "   0.0,\n",
              "   0.3333333333333333,\n",
              "   0.3333333333333333]],\n",
              " [[-0.3333333333333333, 0.0, 0.3333333333333333, 0.0, 0.0, 0.0],\n",
              "  [0.0, -0.3333333333333333, 0.0, 0.0, 0.0, 0.3333333333333333],\n",
              "  [-0.3333333333333333,\n",
              "   -0.3333333333333333,\n",
              "   0.0,\n",
              "   0.3333333333333333,\n",
              "   0.3333333333333333,\n",
              "   0.0]],\n",
              " [[-0.3333333333333333, 0.0, 0.0, 0.0, 0.3333333333333333, 0.0],\n",
              "  [0.0, 0.0, 0.0, -0.3333333333333333, 0.0, 0.3333333333333333],\n",
              "  [0.0,\n",
              "   -0.3333333333333333,\n",
              "   -0.3333333333333333,\n",
              "   0.0,\n",
              "   0.3333333333333333,\n",
              "   0.3333333333333333]]]"
            ]
          },
          "metadata": {},
          "execution_count": 271
        }
      ]
    },
    {
      "cell_type": "code",
      "source": [
        "print_N(Y[3], X[3], S)"
      ],
      "metadata": {
        "colab": {
          "base_uri": "https://localhost:8080/"
        },
        "id": "25n24f2oiDAf",
        "outputId": "956d9d3d-eb1f-4744-dfce-8a10e861e46d"
      },
      "execution_count": null,
      "outputs": [
        {
          "output_type": "stream",
          "name": "stdout",
          "text": [
            "2.0 -0.3333333333333333 0.0\n",
            "1.0 0.0 -0.3333333333333333\n",
            "-2.0 0.3333333333333333 0.3333333333333333\n"
          ]
        }
      ]
    },
    {
      "cell_type": "code",
      "source": [
        "K=[]\n",
        "for i in range(4):\n",
        "  ans = np.dot(np.transpose(B[i]), D)\n",
        "  K.append(np.dot(ans, B[i])*t*S)\n",
        "K"
      ],
      "metadata": {
        "id": "EKeihWcTZyIv",
        "colab": {
          "base_uri": "https://localhost:8080/"
        },
        "outputId": "664329e3-2ef0-4d87-f7da-00c0c7dc24db"
      },
      "execution_count": null,
      "outputs": [
        {
          "output_type": "execute_result",
          "data": {
            "text/plain": [
              "[array([[ 8800000.,  4000000., -6400000., -2400000., -2400000., -1600000.],\n",
              "        [ 4000000.,  8800000., -1600000., -2400000., -2400000., -6400000.],\n",
              "        [-6400000., -1600000.,  6400000.,        0.,        0.,  1600000.],\n",
              "        [-2400000., -2400000.,        0.,  2400000.,  2400000.,        0.],\n",
              "        [-2400000., -2400000.,        0.,  2400000.,  2400000.,        0.],\n",
              "        [-1600000., -6400000.,  1600000.,        0.,        0.,  6400000.]]),\n",
              " array([[ 6400000.,        0.,        0.,  1600000., -6400000., -1600000.],\n",
              "        [       0.,  2400000.,  2400000.,        0., -2400000., -2400000.],\n",
              "        [       0.,  2400000.,  2400000.,        0., -2400000., -2400000.],\n",
              "        [ 1600000.,        0.,        0.,  6400000., -1600000., -6400000.],\n",
              "        [-6400000., -2400000., -2400000., -1600000.,  8800000.,  4000000.],\n",
              "        [-1600000., -2400000., -2400000., -6400000.,  4000000.,  8800000.]]),\n",
              " array([[ 8800000.,  4000000., -6400000., -2400000., -2400000., -1600000.],\n",
              "        [ 4000000.,  8800000., -1600000., -2400000., -2400000., -6400000.],\n",
              "        [-6400000., -1600000.,  6400000.,        0.,        0.,  1600000.],\n",
              "        [-2400000., -2400000.,        0.,  2400000.,  2400000.,        0.],\n",
              "        [-2400000., -2400000.,        0.,  2400000.,  2400000.,        0.],\n",
              "        [-1600000., -6400000.,  1600000.,        0.,        0.,  6400000.]]),\n",
              " array([[ 6400000.,        0.,        0.,  1600000., -6400000., -1600000.],\n",
              "        [       0.,  2400000.,  2400000.,        0., -2400000., -2400000.],\n",
              "        [       0.,  2400000.,  2400000.,        0., -2400000., -2400000.],\n",
              "        [ 1600000.,        0.,        0.,  6400000., -1600000., -6400000.],\n",
              "        [-6400000., -2400000., -2400000., -1600000.,  8800000.,  4000000.],\n",
              "        [-1600000., -2400000., -2400000., -6400000.,  4000000.,  8800000.]])]"
            ]
          },
          "metadata": {},
          "execution_count": 273
        }
      ]
    },
    {
      "cell_type": "code",
      "source": [
        "F=[0,0,0,0,0,0, 0,0,6000000,0,6000000,0] #!!!"
      ],
      "metadata": {
        "id": "sBcBq0RCgwYc"
      },
      "execution_count": null,
      "outputs": []
    },
    {
      "cell_type": "code",
      "source": [
        "nodes =[ 1,3,2, 2,3,4, 3,5,4, 4,5,6 ];\n",
        "K_glob=[[0]*12 for i in range(12)]\n",
        "\n",
        "ind=0\n",
        "for z in range(0, 12, 3):\n",
        "\tK_glob[(nodes[z] - 1)*2][(nodes[z] - 1)*2] += round(K[ind][0][0],2)\n",
        "\tK_glob[(nodes[z + 1] - 1)*2][(nodes[z + 1] - 1)*2] += round(K[ind][2][2],2)\n",
        "\tK_glob[(nodes[z + 2] - 1)*2][(nodes[z + 2] - 1)*2] += round(K[ind][4][4],2)\n",
        "\n",
        "\tK_glob[(nodes[z + 1] - 1)*2][(nodes[z] - 1)*2] += round(K[ind][2][0],2)\n",
        "\tK_glob[(nodes[z] - 1)*2][(nodes[z + 1] - 1)*2] += round(K[ind][0][2],2)\n",
        "\n",
        "\tK_glob[(nodes[z + 2] - 1)*2][(nodes[z] - 1)*2] += round(K[ind][4][0],2)\n",
        "\tK_glob[(nodes[z] - 1)*2][(nodes[z + 2] - 1)*2] += round(K[ind][0][4],2)\n",
        "\n",
        "\tK_glob[(nodes[z + 1] - 1)*2][(nodes[z + 2] - 1)*2] += round(K[ind][2][4],2)\n",
        "\tK_glob[(nodes[z + 2] - 1)*2][(nodes[z + 1] - 1)*2] += round(K[ind][4][2],2)\n",
        "\n",
        "\tind+=1\n",
        "\n",
        "ind=0\n",
        "for z in range(0, 12, 3):\n",
        "\tK_glob[(nodes[z] - 1)*2+1][(nodes[z] - 1)*2+1] += round(K[ind][1][1],2)\n",
        "\tK_glob[(nodes[z + 1] - 1)*2+1][(nodes[z + 1] - 1)*2+1] += round(K[ind][3][3],2)\n",
        "\tK_glob[(nodes[z + 2] - 1)*2+1][(nodes[z + 2] - 1)*2+1] += round(K[ind][5][5],2)\n",
        "\n",
        "\tK_glob[(nodes[z + 1] - 1)*2+1][(nodes[z] - 1)*2+1] += round(K[ind][3][1],2)\n",
        "\tK_glob[(nodes[z] - 1)*2+1][(nodes[z + 1] - 1)*2+1] += round(K[ind][1][3],2)\n",
        "\n",
        "\tK_glob[(nodes[z + 2] - 1)*2+1][(nodes[z] - 1)*2+1] += round(K[ind][5][1],2)\n",
        "\tK_glob[(nodes[z] - 1)*2+1][(nodes[z + 2] - 1)*2+1] += round(K[ind][1][5],2)\n",
        "\n",
        "\tK_glob[(nodes[z + 1] - 1)*2+1][(nodes[z + 2] - 1)*2+1] += round(K[ind][3][5],2)\n",
        "\tK_glob[(nodes[z + 2] - 1)*2+1][(nodes[z + 1] - 1)*2+1] += round(K[ind][5][3],2)\n",
        "\n",
        "\tind+=1\n",
        "\n",
        "ind=0\n",
        "for z in range(0, 12, 3):\n",
        "\tK_glob[(nodes[z] - 1)*2][(nodes[z] - 1)*2+1] += round(K[ind][0][1],2)\n",
        "\tK_glob[(nodes[z] - 1)*2+1][(nodes[z] - 1)*2] += round(K[ind][1][0],2)\n",
        "\n",
        "\tK_glob[(nodes[z] - 1)*2][(nodes[z + 1] - 1)*2+1] += round(K[ind][0][3],2)\n",
        "\tK_glob[(nodes[z + 1] - 1)*2+1][(nodes[z] - 1)*2] += round(K[ind][3][0],2)\n",
        "\n",
        "\tK_glob[(nodes[z] - 1)*2][(nodes[z + 2] - 1)*2+1] += round(K[ind][0][5],2)\n",
        "\tK_glob[(nodes[z + 2] - 1)*2+1][(nodes[z] - 1)*2] += round(K[ind][5][0],2)\n",
        "\n",
        "\tK_glob[(nodes[z] - 1)*2+1][(nodes[z + 1] - 1)*2] += round(K[ind][1][2],2)\n",
        "\tK_glob[(nodes[z + 1] - 1)*2][(nodes[z] - 1)*2+1] += round(K[ind][2][1],2)\n",
        "\n",
        "\tK_glob[(nodes[z] - 1)*2+1][(nodes[z + 2] - 1)*2] += round(K[ind][1][4],2)\n",
        "\tK_glob[(nodes[z + 2] - 1)*2][(nodes[z] - 1)*2+1] += round(K[ind][4][1],2)\n",
        "\n",
        "\tK_glob[(nodes[z + 1] - 1)*2][(nodes[z + 1] - 1)*2+1] += round(K[ind][2][3],2)\n",
        "\tK_glob[(nodes[z + 1] - 1)*2+1][(nodes[z + 1] - 1)*2] += round(K[ind][3][2],2)\n",
        "\n",
        "\tK_glob[(nodes[z + 1] - 1)*2][(nodes[z + 2] - 1)*2+1] += round(K[ind][2][5],2)\n",
        "\tK_glob[(nodes[z + 2] - 1)*2+1][(nodes[z + 1] - 1)*2] += round(K[ind][5][2],2)\n",
        "\n",
        "\tK_glob[(nodes[z + 1] - 1)*2+1][(nodes[z + 2] - 1)*2] += round(K[ind][3][4],2)\n",
        "\tK_glob[(nodes[z + 2] - 1)*2][(nodes[z + 1] - 1)*2+1] += round(K[ind][4][3],2)\n",
        "\n",
        "\tK_glob[(nodes[z + 2] - 1)*2][(nodes[z + 2] - 1)*2+1] += round(K[ind][4][5],2)\n",
        "\tK_glob[(nodes[z + 2] - 1)*2+1][(nodes[z + 2] - 1)*2] += round(K[ind][5][4],2)\n",
        "\n",
        "\tind+=1\n",
        "\n",
        "#df = pd.DataFrame(K_glob)\n",
        "#print(df)"
      ],
      "metadata": {
        "id": "y4qlVJOxkY5e"
      },
      "execution_count": null,
      "outputs": []
    },
    {
      "cell_type": "code",
      "source": [
        "for i in range(12):\n",
        "  K_glob[0][i] = 0\n",
        "  K_glob[1][i] = 0\n",
        "  K_glob[2][i] = 0\n",
        "  K_glob[3][i] = 0\n",
        "K_glob[0][0] = 10000000 #!!!\n",
        "K_glob[1][1] = 10000000\n",
        "K_glob[2][2] = 10000000\n",
        "K_glob[3][3] = 10000000\n",
        "\n",
        "df = pd.DataFrame(K_glob)\n",
        "print(df)"
      ],
      "metadata": {
        "colab": {
          "base_uri": "https://localhost:8080/"
        },
        "id": "a3ENpF2BpV6Y",
        "outputId": "a33ba5b3-408a-4fdf-b6f3-04e76fbe0516"
      },
      "execution_count": null,
      "outputs": [
        {
          "output_type": "stream",
          "name": "stdout",
          "text": [
            "            0           1           2           3           4           5   \\\n",
            "0   10000000.0         0.0         0.0         0.0         0.0         0.0   \n",
            "1          0.0  10000000.0         0.0         0.0         0.0         0.0   \n",
            "2          0.0         0.0  10000000.0         0.0         0.0         0.0   \n",
            "3          0.0         0.0         0.0  10000000.0         0.0         0.0   \n",
            "4   -6400000.0  -1600000.0         0.0   4000000.0  17600000.0   4000000.0   \n",
            "5   -2400000.0  -2400000.0   4000000.0         0.0   4000000.0  17600000.0   \n",
            "6          0.0         0.0  -6400000.0  -2400000.0  -4800000.0  -4000000.0   \n",
            "7          0.0         0.0  -1600000.0  -2400000.0  -4000000.0 -12800000.0   \n",
            "8          0.0         0.0         0.0         0.0  -6400000.0  -1600000.0   \n",
            "9          0.0         0.0         0.0         0.0  -2400000.0  -2400000.0   \n",
            "10         0.0         0.0         0.0         0.0         0.0         0.0   \n",
            "11         0.0         0.0         0.0         0.0         0.0         0.0   \n",
            "\n",
            "            6           7          8          9          10         11  \n",
            "0          0.0         0.0        0.0        0.0        0.0        0.0  \n",
            "1          0.0         0.0        0.0        0.0        0.0        0.0  \n",
            "2          0.0         0.0        0.0        0.0        0.0        0.0  \n",
            "3          0.0         0.0        0.0        0.0        0.0        0.0  \n",
            "4   -4800000.0  -4000000.0 -6400000.0 -2400000.0        0.0        0.0  \n",
            "5   -4000000.0 -12800000.0 -1600000.0 -2400000.0        0.0        0.0  \n",
            "6   17600000.0   4000000.0        0.0  4000000.0 -6400000.0 -1600000.0  \n",
            "7    4000000.0  17600000.0  4000000.0        0.0 -2400000.0 -2400000.0  \n",
            "8          0.0   4000000.0  8800000.0        0.0 -2400000.0 -2400000.0  \n",
            "9    4000000.0         0.0        0.0  8800000.0 -1600000.0 -6400000.0  \n",
            "10  -6400000.0  -2400000.0 -2400000.0 -1600000.0  8800000.0  4000000.0  \n",
            "11  -1600000.0  -2400000.0 -2400000.0 -6400000.0  4000000.0  8800000.0  \n"
          ]
        }
      ]
    },
    {
      "cell_type": "code",
      "source": [
        "np.linalg.inv(K_glob)@F"
      ],
      "metadata": {
        "colab": {
          "base_uri": "https://localhost:8080/"
        },
        "id": "Fffq1c-lhII4",
        "outputId": "4af033cc-6529-4786-95c9-4cb6d86d674e"
      },
      "execution_count": null,
      "outputs": [
        {
          "output_type": "execute_result",
          "data": {
            "text/plain": [
              "array([ 0.        ,  0.        ,  0.        ,  0.        ,  0.91290146,\n",
              "        0.06559612,  1.02222832, -0.17492298,  1.90963493, -0.0413406 ,\n",
              "        2.02294536, -0.29062356])"
            ]
          },
          "metadata": {},
          "execution_count": 277
        }
      ]
    }
  ]
}