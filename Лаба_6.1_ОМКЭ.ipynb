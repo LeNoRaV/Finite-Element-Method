{
  "nbformat": 4,
  "nbformat_minor": 0,
  "metadata": {
    "colab": {
      "provenance": []
    },
    "kernelspec": {
      "name": "python3",
      "display_name": "Python 3"
    },
    "language_info": {
      "name": "python"
    }
  },
  "cells": [
    {
      "cell_type": "code",
      "source": [
        "import math\n",
        "import numpy as np\n",
        "import pandas as pd\n",
        "from sympy import *\n",
        "x = symbols('x')"
      ],
      "metadata": {
        "id": "hjb_x8hNZnfI"
      },
      "execution_count": null,
      "outputs": []
    },
    {
      "cell_type": "code",
      "execution_count": null,
      "metadata": {
        "id": "5aMOrTLlZOyV"
      },
      "outputs": [],
      "source": [
        "T_q=150\n",
        "a_g=10\n",
        "T_g=40\n",
        "K=72\n",
        "L=7.5\n",
        "R=1\n",
        "H=L/2\n",
        "S=math.pi*R**2\n",
        "P=2*math.pi*R"
      ]
    },
    {
      "cell_type": "code",
      "source": [
        "x_2=[0, H/2, H, 3*H/2, 2*H]"
      ],
      "metadata": {
        "id": "A3oPvbZUZ0Hd"
      },
      "execution_count": null,
      "outputs": []
    },
    {
      "cell_type": "code",
      "source": [
        "N_symbol=[]\n",
        "\n",
        "N_symbol.append((1-2*x/H)*(1-x/H))\n",
        "N_symbol.append((4*x/H)*(1-x/H))\n",
        "N_symbol.append((1-2*x/H)*(-x/H))\n",
        "N_symbol"
      ],
      "metadata": {
        "colab": {
          "base_uri": "https://localhost:8080/"
        },
        "id": "8GVzf9FKahDW",
        "outputId": "bc3ac962-af53-4586-c20d-a09ae7145d88"
      },
      "execution_count": null,
      "outputs": [
        {
          "output_type": "execute_result",
          "data": {
            "text/plain": [
              "[(1 - 0.533333333333333*x)*(1 - 0.266666666666667*x),\n",
              " 1.06666666666667*x*(1 - 0.266666666666667*x),\n",
              " -0.266666666666667*x*(1 - 0.533333333333333*x)]"
            ]
          },
          "metadata": {},
          "execution_count": 119
        }
      ]
    },
    {
      "cell_type": "code",
      "source": [
        "B_symbol=[]\n",
        "for i in range (3):\n",
        "  B_symbol.append(diff(N_symbol[i],x))\n",
        "B_symbol"
      ],
      "metadata": {
        "colab": {
          "base_uri": "https://localhost:8080/"
        },
        "id": "5BQkAVojcJPn",
        "outputId": "8cb058f0-6ba3-4a1c-c76d-35d2bbe7d83c"
      },
      "execution_count": null,
      "outputs": [
        {
          "output_type": "execute_result",
          "data": {
            "text/plain": [
              "[0.284444444444444*x - 0.8,\n",
              " 1.06666666666667 - 0.568888888888889*x,\n",
              " 0.284444444444444*x - 0.266666666666667]"
            ]
          },
          "metadata": {},
          "execution_count": 120
        }
      ]
    },
    {
      "cell_type": "code",
      "source": [
        "B_mat=[]\n",
        "for i in range(3):\n",
        "  buf=[]\n",
        "  for j in range(3):\n",
        "    buf.append(B_symbol[i]*B_symbol[j])\n",
        "  B_mat.append(buf)\n",
        "B_mat"
      ],
      "metadata": {
        "colab": {
          "base_uri": "https://localhost:8080/"
        },
        "id": "mDe1hfqOfX-6",
        "outputId": "949f22a9-aa85-41a3-9c53-926095e46982"
      },
      "execution_count": null,
      "outputs": [
        {
          "output_type": "execute_result",
          "data": {
            "text/plain": [
              "[[0.64*(0.355555555555556*x - 1)**2,\n",
              "  (1.06666666666667 - 0.568888888888889*x)*(0.284444444444444*x - 0.8),\n",
              "  (0.284444444444444*x - 0.8)*(0.284444444444444*x - 0.266666666666667)],\n",
              " [(1.06666666666667 - 0.568888888888889*x)*(0.284444444444444*x - 0.8),\n",
              "  1.13777777777778*(1 - 0.533333333333333*x)**2,\n",
              "  (1.06666666666667 - 0.568888888888889*x)*(0.284444444444444*x - 0.266666666666667)],\n",
              " [(0.284444444444444*x - 0.8)*(0.284444444444444*x - 0.266666666666667),\n",
              "  (1.06666666666667 - 0.568888888888889*x)*(0.284444444444444*x - 0.266666666666667),\n",
              "  0.0809086419753086*(x - 0.9375)**2]]"
            ]
          },
          "metadata": {},
          "execution_count": 121
        }
      ]
    },
    {
      "cell_type": "code",
      "source": [
        "k=np.zeros((2,3,3))\n",
        "f=np.zeros((2,3))"
      ],
      "metadata": {
        "id": "D1nEBjupdsk8"
      },
      "execution_count": null,
      "outputs": []
    },
    {
      "cell_type": "code",
      "source": [
        "mat1=[7,-8,1,-8,16,-8,1,-8,7]\n",
        "#mat2=[-2,-80,49,-80,208,-128,49,-128,79]\n",
        "nat1=[4,2,-1,2,16,2,-1,2,4]\n",
        "#nat2=[64,-178,149,-178,496,-418,149,-418,364]\n",
        "for i in range(3):\n",
        "  for j in range(3):\n",
        "    k[0][i][j]=S*K/3/H*mat1[i*3+j]+a_g*P*nat1[i*3+j]/30*H\n",
        "k[1]=k[0]\n",
        "k[1][2][2]+=a_g*P*nat1[2*3+2]/30*H\n",
        "k"
      ],
      "metadata": {
        "colab": {
          "base_uri": "https://localhost:8080/"
        },
        "id": "d024dugSvkVq",
        "outputId": "8a6c092f-4c8f-4ab5-8a24-effb3ecefb47"
      },
      "execution_count": null,
      "outputs": [
        {
          "output_type": "execute_result",
          "data": {
            "text/plain": [
              "array([[[ 172.15927742, -145.1415806 ,   12.25221135],\n",
              "        [-145.1415806 ,  447.36279387, -145.1415806 ],\n",
              "        [  12.25221135, -145.1415806 ,  172.15927742]],\n",
              "\n",
              "       [[ 172.15927742, -145.1415806 ,   12.25221135],\n",
              "        [-145.1415806 ,  447.36279387, -145.1415806 ],\n",
              "        [  12.25221135, -145.1415806 ,  203.57520395]]])"
            ]
          },
          "metadata": {},
          "execution_count": 123
        }
      ]
    },
    {
      "cell_type": "code",
      "source": [
        "K_glob=np.zeros((5,5))\n",
        "for i in range(3):\n",
        "  for j in range(3):\n",
        "    K_glob[i][j]+=k[0][i][j]\n",
        "    K_glob[i+2][j+2]+=k[1][i][j]\n",
        "for j in range(5):\n",
        "    K_glob[0][j]=0\n",
        "    #K_glob[j][0]=0\n",
        "K_glob[0][0]=1\n",
        "df = pd.DataFrame(K_glob)\n",
        "print(df)"
      ],
      "metadata": {
        "colab": {
          "base_uri": "https://localhost:8080/"
        },
        "id": "CHs8Sdduoz-T",
        "outputId": "b7dee51c-4467-42ad-ce04-fc6f9a629e9f"
      },
      "execution_count": null,
      "outputs": [
        {
          "output_type": "stream",
          "name": "stdout",
          "text": [
            "            0           1           2           3           4\n",
            "0    1.000000    0.000000    0.000000    0.000000    0.000000\n",
            "1 -145.141581  447.362794 -145.141581    0.000000    0.000000\n",
            "2   12.252211 -145.141581  344.318555 -145.141581   12.252211\n",
            "3    0.000000    0.000000 -145.141581  447.362794 -145.141581\n",
            "4    0.000000    0.000000   12.252211 -145.141581  203.575204\n"
          ]
        }
      ]
    },
    {
      "cell_type": "code",
      "source": [
        "n1=[1,4,1]\n",
        "\n",
        "for i in range(3):\n",
        "  f[0][i]=a_g*P*T_g*H/6*n1[i]\n",
        "f[1]=f[0]\n",
        "f[1][2]+=a_g*P*T_g*H/6*n1[2]\n",
        "f"
      ],
      "metadata": {
        "colab": {
          "base_uri": "https://localhost:8080/"
        },
        "id": "9Fx15XhnmuGq",
        "outputId": "79f4a58d-3f87-4f2f-85b0-ed62306de031"
      },
      "execution_count": null,
      "outputs": [
        {
          "output_type": "execute_result",
          "data": {
            "text/plain": [
              "array([[1570.79632679, 6283.18530718, 1570.79632679],\n",
              "       [1570.79632679, 6283.18530718, 3141.59265359]])"
            ]
          },
          "metadata": {},
          "execution_count": 125
        }
      ]
    },
    {
      "cell_type": "code",
      "source": [
        "F_glob=np.zeros(5)\n",
        "for j in range(3):\n",
        "    F_glob[j]+=f[0][j]\n",
        "    F_glob[j+2]+=f[1][j]\n",
        "F_glob[0]=150\n",
        "F_glob"
      ],
      "metadata": {
        "colab": {
          "base_uri": "https://localhost:8080/"
        },
        "id": "4SFADYi4rmgB",
        "outputId": "28a236c0-c24e-409e-bf3d-d55cf4663c5c"
      },
      "execution_count": null,
      "outputs": [
        {
          "output_type": "execute_result",
          "data": {
            "text/plain": [
              "array([ 150.        , 6283.18530718, 3141.59265359, 6283.18530718,\n",
              "       3141.59265359])"
            ]
          },
          "metadata": {},
          "execution_count": 126
        }
      ]
    },
    {
      "cell_type": "code",
      "source": [
        "T=np.linalg.inv(K_glob)@F_glob\n",
        "T"
      ],
      "metadata": {
        "colab": {
          "base_uri": "https://localhost:8080/"
        },
        "id": "NQNHojhQtJ7C",
        "outputId": "63c0a376-7bd8-43ac-f44a-908e453829bf"
      },
      "execution_count": null,
      "outputs": [
        {
          "output_type": "execute_result",
          "data": {
            "text/plain": [
              "array([150.        ,  80.91119505,  56.09857522,  47.03708816,\n",
              "        45.59149737])"
            ]
          },
          "metadata": {},
          "execution_count": 127
        }
      ]
    }
  ]
}