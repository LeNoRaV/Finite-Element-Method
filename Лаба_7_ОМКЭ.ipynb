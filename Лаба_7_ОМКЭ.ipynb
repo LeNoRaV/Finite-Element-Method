{
  "nbformat": 4,
  "nbformat_minor": 0,
  "metadata": {
    "colab": {
      "provenance": []
    },
    "kernelspec": {
      "name": "python3",
      "display_name": "Python 3"
    },
    "language_info": {
      "name": "python"
    }
  },
  "cells": [
    {
      "cell_type": "code",
      "source": [
        "import math\n",
        "import numpy as np\n",
        "import pandas as pd\n",
        "from sympy import diff, symbols\n",
        "from scipy import integrate\n",
        "import sympy as sym\n",
        "x, l1, l2= symbols('x, l1, l2')"
      ],
      "metadata": {
        "id": "hjb_x8hNZnfI"
      },
      "execution_count": null,
      "outputs": []
    },
    {
      "cell_type": "code",
      "source": [
        "N1=-27./2*(1./4*l2*(l2-1./3)+3./8*(-3*l2**2-2*l1*l2+8./3*l2+1./3*l1-1./3))\n",
        "N2=27./2*(1./8*l2*(l2-1./3)+1./16*(-3*l2**2-2*l1*l2+8./3*l2+1./3*l1-1./3))"
      ],
      "metadata": {
        "id": "dPL3Z_fmB-XS"
      },
      "execution_count": null,
      "outputs": []
    },
    {
      "cell_type": "code",
      "source": [
        "N=27./2*l2*(1-l1-l2)*(l2-1./3)"
      ],
      "metadata": {
        "id": "81dzRx-ZCbc2"
      },
      "execution_count": null,
      "outputs": []
    },
    {
      "cell_type": "code",
      "source": [
        "k=diff(N,l1)\n",
        "k"
      ],
      "metadata": {
        "colab": {
          "base_uri": "https://localhost:8080/",
          "height": 38
        },
        "id": "N3Y9Lxf-dr52",
        "outputId": "7d27b49c-60ae-4bcb-8ae4-d31abef7e8f7"
      },
      "execution_count": null,
      "outputs": [
        {
          "output_type": "execute_result",
          "data": {
            "text/plain": [
              "-13.5*l2*(l2 - 0.333333333333333)"
            ],
            "text/latex": "$\\displaystyle - 13.5 l_{2} \\left(l_{2} - 0.333333333333333\\right)$"
          },
          "metadata": {},
          "execution_count": 346
        }
      ]
    },
    {
      "cell_type": "code",
      "source": [
        "h=diff(N,l2)\n",
        "h"
      ],
      "metadata": {
        "colab": {
          "base_uri": "https://localhost:8080/",
          "height": 38
        },
        "id": "Ol3chKZJeD3P",
        "outputId": "f020e987-5ceb-45e3-b62c-d83b027ff2d9"
      },
      "execution_count": null,
      "outputs": [
        {
          "output_type": "execute_result",
          "data": {
            "text/plain": [
              "-13.5*l2*(l2 - 0.333333333333333) + 13.5*l2*(-l1 - l2 + 1) + 13.5*(l2 - 0.333333333333333)*(-l1 - l2 + 1)"
            ],
            "text/latex": "$\\displaystyle - 13.5 l_{2} \\left(l_{2} - 0.333333333333333\\right) + 13.5 l_{2} \\left(- l_{1} - l_{2} + 1\\right) + 13.5 \\left(l_{2} - 0.333333333333333\\right) \\left(- l_{1} - l_{2} + 1\\right)$"
          },
          "metadata": {},
          "execution_count": 347
        }
      ]
    },
    {
      "cell_type": "code",
      "source": [
        "N_mat=[[diff(N,l1)],[diff(N,l2)]]\n",
        "J=[[-1./4,3./8],[-1./8,-1./16]]\n",
        "Mat=[[-1./4*diff(N,l1)+3./8*diff(N,l2)],[-1./8*diff(N,l1)+(-1./16)*diff(N,l2)]]\n",
        "Mat"
      ],
      "metadata": {
        "colab": {
          "base_uri": "https://localhost:8080/"
        },
        "id": "3IfkuL4keL71",
        "outputId": "a89dd23e-f439-48a1-fa6c-a57c8e457759"
      },
      "execution_count": null,
      "outputs": [
        {
          "output_type": "execute_result",
          "data": {
            "text/plain": [
              "[[-1.6875*l2*(l2 - 0.333333333333333) + 5.0625*l2*(-l1 - l2 + 1) + 5.0625*(l2 - 0.333333333333333)*(-l1 - l2 + 1)],\n",
              " [2.53125*l2*(l2 - 0.333333333333333) - 0.84375*l2*(-l1 - l2 + 1) - 0.84375*(l2 - 0.333333333333333)*(-l1 - l2 + 1)]]"
            ]
          },
          "metadata": {},
          "execution_count": 348
        }
      ]
    },
    {
      "cell_type": "code",
      "source": [
        "N1=-1.6875*l2*(l2 - 0.333333333333333) + 5.0625*l2*(-l1 - l2 + 1) + 5.0625*(l2 - 0.333333333333333)*(-l1 - l2 + 1)\n",
        "N2=2.53125*l2*(l2 - 0.333333333333333) - 0.84375*l2*(-l1 - l2 + 1) - 0.84375*(l2 - 0.333333333333333)*(-l1 - l2 + 1)"
      ],
      "metadata": {
        "id": "DA2zXFttfxe0"
      },
      "execution_count": null,
      "outputs": []
    },
    {
      "cell_type": "code",
      "source": [
        "[N1*N2]"
      ],
      "metadata": {
        "id": "xti4MH5NOvMg",
        "outputId": "1721e958-91a1-455d-a4fc-48aceddf02e1",
        "colab": {
          "base_uri": "https://localhost:8080/"
        }
      },
      "execution_count": null,
      "outputs": [
        {
          "output_type": "execute_result",
          "data": {
            "text/plain": [
              "[(-1.6875*l2*(l2 - 0.333333333333333) + 5.0625*l2*(-l1 - l2 + 1) + (5.0625*l2 - 1.6875)*(-l1 - l2 + 1))*(2.53125*l2*(l2 - 0.333333333333333) - 0.84375*l2*(-l1 - l2 + 1) - (0.84375*l2 - 0.28125)*(-l1 - l2 + 1))]"
            ]
          },
          "metadata": {},
          "execution_count": 368
        }
      ]
    },
    {
      "cell_type": "code",
      "source": [
        "[sym.simplify(N1*N2)]"
      ],
      "metadata": {
        "colab": {
          "base_uri": "https://localhost:8080/"
        },
        "id": "DOMaxct646AO",
        "outputId": "26fcb28c-5b70-4ab8-b1f8-bbc42ab562be"
      },
      "execution_count": null,
      "outputs": [
        {
          "output_type": "execute_result",
          "data": {
            "text/plain": [
              "[(-2.53125*l2*(l2 - 0.333333333333333) - 0.84375*l2*(l1 + l2 - 1) - (0.84375*l2 - 0.28125)*(l1 + l2 - 1))*(1.6875*l2*(l2 - 0.333333333333333) + 5.0625*l2*(l1 + l2 - 1) + (5.0625*l2 - 1.6875)*(l1 + l2 - 1))]"
            ]
          },
          "metadata": {},
          "execution_count": 372
        }
      ]
    },
    {
      "cell_type": "code",
      "source": [
        "f=sym.integrate(N1*N2, (l2, 0, 1-l1))\n",
        "f"
      ],
      "metadata": {
        "colab": {
          "base_uri": "https://localhost:8080/",
          "height": 83
        },
        "id": "OEN03_xw2O64",
        "outputId": "53e2f8cb-7864-4e3b-84ab-74688ef4f0cb"
      },
      "execution_count": null,
      "outputs": [
        {
          "output_type": "execute_result",
          "data": {
            "text/plain": [
              "-9.966796875*(1 - l1)**5 + (1 - l1)**4*(21.357421875 - 15.662109375*l1) + (1 - l1)**3*(-5.6953125*l1**2 + 19.93359375*l1 - 15.08203125) + (1 - l1)**2*(2.84765625*l1**2 - 6.96093749999999*l1 + 4.11328124999999) + (1 - l1)*(-0.474609374999999*l1**2 + 0.949218749999998*l1 - 0.474609374999999)"
            ],
            "text/latex": "$\\displaystyle - 9.966796875 \\left(1 - l_{1}\\right)^{5} + \\left(1 - l_{1}\\right)^{4} \\cdot \\left(21.357421875 - 15.662109375 l_{1}\\right) + \\left(1 - l_{1}\\right)^{3} \\left(- 5.6953125 l_{1}^{2} + 19.93359375 l_{1} - 15.08203125\\right) + \\left(1 - l_{1}\\right)^{2} \\cdot \\left(2.84765625 l_{1}^{2} - 6.96093749999999 l_{1} + 4.11328124999999\\right) + \\left(1 - l_{1}\\right) \\left(- 0.474609374999999 l_{1}^{2} + 0.949218749999998 l_{1} - 0.474609374999999\\right)$"
          },
          "metadata": {},
          "execution_count": 365
        }
      ]
    },
    {
      "cell_type": "code",
      "source": [
        "sym.integrate(f, (l1, 0, 1))"
      ],
      "metadata": {
        "colab": {
          "base_uri": "https://localhost:8080/",
          "height": 37
        },
        "id": "Dwh8yjCz2fea",
        "outputId": "5792ff9c-58e1-45bc-fd7d-df72b10b3b76"
      },
      "execution_count": null,
      "outputs": [
        {
          "output_type": "execute_result",
          "data": {
            "text/plain": [
              "-0.0131835937499986"
            ],
            "text/latex": "$\\displaystyle -0.0131835937499986$"
          },
          "metadata": {},
          "execution_count": 366
        }
      ]
    },
    {
      "cell_type": "code",
      "source": [
        "a=0.05961587\n",
        "b=0.47014206\n",
        "g=0.10128651\n",
        "d=0.79742699"
      ],
      "metadata": {
        "id": "DzxSXTBKIiWn"
      },
      "execution_count": null,
      "outputs": []
    },
    {
      "cell_type": "code",
      "source": [
        "L1=[1./3,a, b, b, g, d, g]\n",
        "L2=[1./3,b, b, a, g, g, d]\n",
        "w=[0.1125,0.066197075,0.066197075,0.066197075,0.06296959,0.06296959,0.06296959]"
      ],
      "metadata": {
        "id": "aKKut3rgHmAh"
      },
      "execution_count": null,
      "outputs": []
    },
    {
      "cell_type": "code",
      "source": [
        "Ans=np.zeros(7)\n",
        "for i in range(7): Ans[i]=(N1*N2).subs({l1:L1[i], l2:L2[i]})*w[i]\n",
        "Ans.sum()"
      ],
      "metadata": {
        "id": "dFIOmkYtEC7J",
        "outputId": "306eb57f-58be-4665-c712-95f8406ca97a",
        "colab": {
          "base_uri": "https://localhost:8080/"
        }
      },
      "execution_count": null,
      "outputs": [
        {
          "output_type": "execute_result",
          "data": {
            "text/plain": [
              "-0.01319633686008297"
            ]
          },
          "metadata": {},
          "execution_count": 367
        }
      ]
    },
    {
      "cell_type": "code",
      "source": [
        "N1.subs({l1:1./4, l2:1./8})"
      ],
      "metadata": {
        "colab": {
          "base_uri": "https://localhost:8080/",
          "height": 37
        },
        "id": "2RaQIywmiWzl",
        "outputId": "c39ed079-df48-4193-e36f-0823858721d1"
      },
      "execution_count": null,
      "outputs": [
        {
          "output_type": "execute_result",
          "data": {
            "text/plain": [
              "-0.219726562499999"
            ],
            "text/latex": "$\\displaystyle -0.219726562499999$"
          },
          "metadata": {},
          "execution_count": 363
        }
      ]
    },
    {
      "cell_type": "code",
      "source": [
        "N2.subs({l1:1./4, l2:1./8})"
      ],
      "metadata": {
        "colab": {
          "base_uri": "https://localhost:8080/",
          "height": 37
        },
        "id": "fGPTkockiptW",
        "outputId": "b829ee19-f340-4b2f-92ee-0f2e59b0892c"
      },
      "execution_count": null,
      "outputs": [
        {
          "output_type": "execute_result",
          "data": {
            "text/plain": [
              "-0.0219726562500001"
            ],
            "text/latex": "$\\displaystyle -0.0219726562500001$"
          },
          "metadata": {},
          "execution_count": 364
        }
      ]
    }
  ]
}