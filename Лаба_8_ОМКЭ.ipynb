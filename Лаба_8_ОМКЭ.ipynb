{
  "nbformat": 4,
  "nbformat_minor": 0,
  "metadata": {
    "colab": {
      "provenance": []
    },
    "kernelspec": {
      "name": "python3",
      "display_name": "Python 3"
    },
    "language_info": {
      "name": "python"
    }
  },
  "cells": [
    {
      "cell_type": "code",
      "execution_count": null,
      "metadata": {
        "id": "MkH09YM7_DuZ"
      },
      "outputs": [],
      "source": [
        "import math\n",
        "import numpy as np\n",
        "import pandas as pd\n",
        "from sympy import diff, symbols\n",
        "from scipy import integrate\n",
        "import sympy as sym\n",
        "xi, eta = symbols('xi, eta')"
      ]
    },
    {
      "cell_type": "code",
      "source": [
        "R1=1/4*(eta-1)*(xi-1)\n",
        "R2=1/4*(eta-1)*(xi+1)\n",
        "R3=1/4*(eta+1)*(xi-1)\n",
        "R4=1/4*(eta+1)*(xi+1)"
      ],
      "metadata": {
        "id": "W5dr013q_KVx"
      },
      "execution_count": null,
      "outputs": []
    },
    {
      "cell_type": "code",
      "source": [
        "X=15*R1+25*R2+30*R3+13*R4\n",
        "Y=15*R1+20*R2+35*R3+30*R4\n",
        "print(sym.simplify(X),'\\n',sym.simplify(Y))"
      ],
      "metadata": {
        "colab": {
          "base_uri": "https://localhost:8080/"
        },
        "id": "vDPChC-i_vyD",
        "outputId": "04b35ce6-926e-45f9-abf8-392cd8bc29c9"
      },
      "execution_count": null,
      "outputs": [
        {
          "output_type": "stream",
          "name": "stdout",
          "text": [
            "20.75*eta*xi - 1.75*eta + 0.75*xi - 6.75 \n",
            " 25.0*eta*xi + 7.5*xi - 2.5\n"
          ]
        }
      ]
    },
    {
      "cell_type": "code",
      "source": [
        "J=[[diff(X,xi),diff(Y,xi)],[diff(X,eta),diff(Y,eta)]]\n",
        "J"
      ],
      "metadata": {
        "colab": {
          "base_uri": "https://localhost:8080/"
        },
        "id": "MtaK-_r9__Yd",
        "outputId": "156445e9-d885-43a2-c0ed-1d57214e907f"
      },
      "execution_count": null,
      "outputs": [
        {
          "output_type": "execute_result",
          "data": {
            "text/plain": [
              "[[20.75*eta + 0.75, 25.0*eta + 7.5], [20.75*xi - 1.75, 25.0*xi]]"
            ]
          },
          "metadata": {},
          "execution_count": 117
        }
      ]
    },
    {
      "cell_type": "code",
      "source": [
        "J1=[[(25.0*xi)/(J[0][0]*J[1][1]-J[0][1]*J[1][0]), (-25.0*eta - 7.5)/(J[0][0]*J[1][1]-J[0][1]*J[1][0])], [(-20.75*xi + 1.75)/(J[0][0]*J[1][1]-J[0][1]*J[1][0]), (20.75*eta + 0.75)/(J[0][0]*J[1][1]-J[0][1]*J[1][0])]]\n",
        "J1"
      ],
      "metadata": {
        "colab": {
          "base_uri": "https://localhost:8080/"
        },
        "id": "-JXhqh18BRHX",
        "outputId": "e752085d-29cd-4079-92db-f94634d3ea45"
      },
      "execution_count": null,
      "outputs": [
        {
          "output_type": "execute_result",
          "data": {
            "text/plain": [
              "[[25.0*xi/(25.0*xi*(20.75*eta + 0.75) - (25.0*eta + 7.5)*(20.75*xi - 1.75)),\n",
              "  (-25.0*eta - 7.5)/(25.0*xi*(20.75*eta + 0.75) - (25.0*eta + 7.5)*(20.75*xi - 1.75))],\n",
              " [(1.75 - 20.75*xi)/(25.0*xi*(20.75*eta + 0.75) - (25.0*eta + 7.5)*(20.75*xi - 1.75)),\n",
              "  (20.75*eta + 0.75)/(25.0*xi*(20.75*eta + 0.75) - (25.0*eta + 7.5)*(20.75*xi - 1.75))]]"
            ]
          },
          "metadata": {},
          "execution_count": 118
        }
      ]
    },
    {
      "cell_type": "markdown",
      "source": [
        "Квадратичный элемент"
      ],
      "metadata": {
        "id": "-yZ4WO87wX5M"
      }
    },
    {
      "cell_type": "code",
      "source": [
        "N=[-1/4*(1-xi)*(1-eta)*(1+xi+eta),1/2*(1-xi**2)*(1-eta),1/4*(1+xi)*(1-eta)*(-1+xi-eta),1/2*(1+xi)*(1-eta**2),1/4*(1+xi)*(1+eta)*(-1+xi+eta),1/2*(1-xi**2)*(1+eta),-1/4*(1-xi)*(1+eta)*(1+xi-eta),1/2*(1-xi)*(1-eta**2)]"
      ],
      "metadata": {
        "id": "oFkYhD00EicA"
      },
      "execution_count": null,
      "outputs": []
    },
    {
      "cell_type": "code",
      "source": [
        "z=[]\n",
        "for i in range(len(N)):\n",
        "  z1=np.array([diff(N[i],xi),diff(N[i],eta)])\n",
        "  z.append(z1)\n",
        "  print(z1)"
      ],
      "metadata": {
        "colab": {
          "base_uri": "https://localhost:8080/"
        },
        "id": "SrhSGfkGJFko",
        "outputId": "e0196feb-2c8a-4be6-fb30-d1ed391fcfa7"
      },
      "execution_count": null,
      "outputs": [
        {
          "output_type": "stream",
          "name": "stdout",
          "text": [
            "[(1 - eta)*(0.25*xi - 0.25) + 0.25*(1 - eta)*(eta + xi + 1)\n",
            " (1 - eta)*(0.25*xi - 0.25) - (0.25*xi - 0.25)*(eta + xi + 1)]\n",
            "[-1.0*xi*(1 - eta) 0.5*xi**2 - 0.5]\n",
            "[(1 - eta)*(0.25*xi + 0.25) + 0.25*(1 - eta)*(-eta + xi - 1)\n",
            " -(1 - eta)*(0.25*xi + 0.25) - (0.25*xi + 0.25)*(-eta + xi - 1)]\n",
            "[0.5 - 0.5*eta**2 -2*eta*(0.5*xi + 0.5)]\n",
            "[(eta + 1)*(0.25*xi + 0.25) + 0.25*(eta + 1)*(eta + xi - 1)\n",
            " (eta + 1)*(0.25*xi + 0.25) + (0.25*xi + 0.25)*(eta + xi - 1)]\n",
            "[-1.0*xi*(eta + 1) 0.5 - 0.5*xi**2]\n",
            "[(eta + 1)*(0.25*xi - 0.25) + 0.25*(eta + 1)*(-eta + xi + 1)\n",
            " -(eta + 1)*(0.25*xi - 0.25) + (0.25*xi - 0.25)*(-eta + xi + 1)]\n",
            "[0.5*eta**2 - 0.5 -2*eta*(0.5 - 0.5*xi)]\n"
          ]
        }
      ]
    },
    {
      "cell_type": "code",
      "source": [
        "N_diff=[]\n",
        "for i in range(len(N)):\n",
        "  N_diff.append(J1@z[i])\n",
        "  print(sym.simplify(N_diff[i]))"
      ],
      "metadata": {
        "colab": {
          "base_uri": "https://localhost:8080/"
        },
        "id": "Xqmd7FHYF7o4",
        "outputId": "0f0a2c12-2f48-4dd1-d522-c9f155a8058b"
      },
      "execution_count": null,
      "outputs": [
        {
          "output_type": "stream",
          "name": "stdout",
          "text": [
            "[(6.25*eta**2*xi - 12.5*eta**2 - 6.25*eta*xi**2 + 3.75*eta*xi - 3.75*eta + 14.375*xi**2 - 1.875*xi)/(43.75*eta - 136.875*xi + 13.125), (-5.1875*eta**2*xi + 9.9375*eta**2 + 5.1875*eta*xi**2 - 1.25*eta*xi + 0.8125*eta - 10.5625*xi**2 + 1.0625*xi)/(43.75*eta - 136.875*xi + 13.125)]\n",
            "[(12.5*eta*xi**2 + 12.5*eta - 28.75*xi**2 + 3.75)/(43.75*eta - 136.875*xi + 13.125), (-10.375*eta*xi**2 + 1.75*eta*xi - 10.375*eta + 21.125*xi**2 - 1.75*xi - 0.375)/(43.75*eta - 136.875*xi + 13.125)]\n",
            "[(-6.25*eta**2*xi - 12.5*eta**2 - 6.25*eta*xi**2 - 3.75*eta*xi - 3.75*eta + 14.375*xi**2 + 1.875*xi)/(43.75*eta - 136.875*xi + 13.125), (5.1875*eta**2*xi + 10.8125*eta**2 + 5.1875*eta*xi**2 - 0.5*eta*xi - 0.0625*eta - 10.5625*xi**2 + 0.6875*xi)/(43.75*eta - 136.875*xi + 13.125)]\n",
            "[(12.5*eta**2*xi + 25.0*eta**2 + 7.5*eta*xi + 7.5*eta + 12.5*xi)/(43.75*eta - 136.875*xi + 13.125), (-10.375*eta**2*xi - 21.625*eta**2 - 0.75*eta*xi - 0.75*eta - 10.375*xi + 0.875)/(43.75*eta - 136.875*xi + 13.125)]\n",
            "[(-6.25*eta**2*xi - 12.5*eta**2 + 6.25*eta*xi**2 - 3.75*eta*xi - 3.75*eta + 10.625*xi**2 - 1.875*xi)/(43.75*eta - 136.875*xi + 13.125), (5.1875*eta**2*xi + 10.8125*eta**2 - 5.1875*eta*xi**2 + 1.25*eta*xi + 0.8125*eta - 10.1875*xi**2 + 1.0625*xi)/(43.75*eta - 136.875*xi + 13.125)]\n",
            "[(-12.5*eta*xi**2 - 12.5*eta - 21.25*xi**2 - 3.75)/(43.75*eta - 136.875*xi + 13.125), (10.375*eta*xi**2 - 1.75*eta*xi + 10.375*eta + 20.375*xi**2 - 1.75*xi + 0.375)/(43.75*eta - 136.875*xi + 13.125)]\n",
            "[(6.25*eta**2*xi - 12.5*eta**2 + 6.25*eta*xi**2 + 3.75*eta*xi - 3.75*eta + 10.625*xi**2 + 1.875*xi)/(43.75*eta - 136.875*xi + 13.125), (-5.1875*eta**2*xi + 9.9375*eta**2 - 5.1875*eta*xi**2 + 0.5*eta*xi - 0.0625*eta - 10.1875*xi**2 + 0.6875*xi)/(43.75*eta - 136.875*xi + 13.125)]\n",
            "[(-12.5*eta**2*xi + 25.0*eta**2 - 7.5*eta*xi + 7.5*eta - 12.5*xi)/(43.75*eta - 136.875*xi + 13.125), (10.375*eta**2*xi - 19.875*eta**2 + 0.75*eta*xi - 0.75*eta + 10.375*xi - 0.875)/(43.75*eta - 136.875*xi + 13.125)]\n"
          ]
        }
      ]
    },
    {
      "cell_type": "code",
      "source": [
        "sym.simplify(N_diff[0])"
      ],
      "metadata": {
        "colab": {
          "base_uri": "https://localhost:8080/",
          "height": 47
        },
        "id": "WeMj0dtLPHuP",
        "outputId": "28a10df7-ce0b-4ac0-d61b-5b361b41f23e"
      },
      "execution_count": null,
      "outputs": [
        {
          "output_type": "execute_result",
          "data": {
            "text/plain": [
              "[(6.25*eta**2*xi - 12.5*eta**2 - 6.25*eta*xi**2 + 3.75*eta*xi - 3.75*eta + 14.375*xi**2 - 1.875*xi)/(43.75*eta - 136.875*xi + 13.125), (-5.1875*eta**2*xi + 9.9375*eta**2 + 5.1875*eta*xi**2 - 1.25*eta*xi + 0.8125*eta - 10.5625*xi**2 + 1.0625*xi)/(43.75*eta - 136.875*xi + 13.125)]"
            ],
            "text/latex": "$\\displaystyle \\left[\\begin{matrix}\\frac{6.25 \\eta^{2} \\xi - 12.5 \\eta^{2} - 6.25 \\eta \\xi^{2} + 3.75 \\eta \\xi - 3.75 \\eta + 14.375 \\xi^{2} - 1.875 \\xi}{43.75 \\eta - 136.875 \\xi + 13.125} & \\frac{- 5.1875 \\eta^{2} \\xi + 9.9375 \\eta^{2} + 5.1875 \\eta \\xi^{2} - 1.25 \\eta \\xi + 0.8125 \\eta - 10.5625 \\xi^{2} + 1.0625 \\xi}{43.75 \\eta - 136.875 \\xi + 13.125}\\end{matrix}\\right]$"
          },
          "metadata": {},
          "execution_count": 122
        }
      ]
    },
    {
      "cell_type": "markdown",
      "source": [
        "Кубический элемент"
      ],
      "metadata": {
        "id": "hR3Cv8NpwLKp"
      }
    },
    {
      "cell_type": "code",
      "source": [
        "N=[]\n",
        "N.append(1/32*(1-xi)*(1-eta)*(-10+9*(xi**2+eta**2)))\n",
        "N.append(9/32*(1-xi**2)*(1-eta)*(1-3*xi))\n",
        "N.append(9/32*(1-xi**2)*(1-eta)*(1+3*xi))\n",
        "N.append(1/32*(1+xi)*(1-eta)*(-10+9*(xi**2+eta**2)))\n",
        "N.append(9/32*(1+xi)*(1-eta**2)*(1-3*eta))\n",
        "N.append(9/32*(1+xi)*(1-eta**2)*(1+3*eta))\n",
        "N.append(1/32*(1+xi)*(1+eta)*(-10+9*(xi**2+eta**2)))\n",
        "N.append(9/32*(1-xi**2)*(1+eta)*(1+3*xi))\n",
        "N.append(9/32*(1-xi**2)*(1+eta)*(1-3*xi))\n",
        "N.append(1/32*(1-xi)*(1+eta)*(-10+9*(xi**2+eta**2)))\n",
        "N.append(9/32*(1-xi)*(1-eta**2)*(1+3*eta))\n",
        "N.append(9/32*(1-xi)*(1-eta**2)*(1-3*eta))"
      ],
      "metadata": {
        "id": "pZFxjLp5wFE7"
      },
      "execution_count": null,
      "outputs": []
    },
    {
      "cell_type": "code",
      "source": [
        "z=[]\n",
        "for i in range(len(N)):\n",
        "  z1=np.array([diff(N[i],xi),diff(N[i],eta)])\n",
        "  z.append(z1)\n",
        "  print(z1)"
      ],
      "metadata": {
        "colab": {
          "base_uri": "https://localhost:8080/"
        },
        "id": "TJ72V0HPxy9G",
        "outputId": "bf7f2288-371d-440b-99e1-28d7ff1ca54a"
      },
      "execution_count": null,
      "outputs": [
        {
          "output_type": "stream",
          "name": "stdout",
          "text": [
            "[18*xi*(0.03125 - 0.03125*xi)*(1 - eta) - 0.03125*(1 - eta)*(9*eta**2 + 9*xi**2 - 10)\n",
            " 18*eta*(0.03125 - 0.03125*xi)*(1 - eta) - (0.03125 - 0.03125*xi)*(9*eta**2 + 9*xi**2 - 10)]\n",
            "[-0.5625*xi*(1 - eta)*(1 - 3*xi) - 3*(0.28125 - 0.28125*xi**2)*(1 - eta)\n",
            " -(0.28125 - 0.28125*xi**2)*(1 - 3*xi)]\n",
            "[-0.5625*xi*(1 - eta)*(3*xi + 1) + 3*(0.28125 - 0.28125*xi**2)*(1 - eta)\n",
            " -(0.28125 - 0.28125*xi**2)*(3*xi + 1)]\n",
            "[18*xi*(1 - eta)*(0.03125*xi + 0.03125) + 0.03125*(1 - eta)*(9*eta**2 + 9*xi**2 - 10)\n",
            " 18*eta*(1 - eta)*(0.03125*xi + 0.03125) - (0.03125*xi + 0.03125)*(9*eta**2 + 9*xi**2 - 10)]\n",
            "[0.28125*(1 - 3*eta)*(1 - eta**2)\n",
            " -2*eta*(1 - 3*eta)*(0.28125*xi + 0.28125) - 3*(1 - eta**2)*(0.28125*xi + 0.28125)]\n",
            "[0.28125*(1 - eta**2)*(3*eta + 1)\n",
            " -2*eta*(3*eta + 1)*(0.28125*xi + 0.28125) + 3*(1 - eta**2)*(0.28125*xi + 0.28125)]\n",
            "[18*xi*(eta + 1)*(0.03125*xi + 0.03125) + 0.03125*(eta + 1)*(9*eta**2 + 9*xi**2 - 10)\n",
            " 18*eta*(eta + 1)*(0.03125*xi + 0.03125) + (0.03125*xi + 0.03125)*(9*eta**2 + 9*xi**2 - 10)]\n",
            "[-0.5625*xi*(eta + 1)*(3*xi + 1) + 3*(0.28125 - 0.28125*xi**2)*(eta + 1)\n",
            " (0.28125 - 0.28125*xi**2)*(3*xi + 1)]\n",
            "[-0.5625*xi*(1 - 3*xi)*(eta + 1) - 3*(0.28125 - 0.28125*xi**2)*(eta + 1)\n",
            " (0.28125 - 0.28125*xi**2)*(1 - 3*xi)]\n",
            "[18*xi*(0.03125 - 0.03125*xi)*(eta + 1) - 0.03125*(eta + 1)*(9*eta**2 + 9*xi**2 - 10)\n",
            " 18*eta*(0.03125 - 0.03125*xi)*(eta + 1) + (0.03125 - 0.03125*xi)*(9*eta**2 + 9*xi**2 - 10)]\n",
            "[-0.28125*(1 - eta**2)*(3*eta + 1)\n",
            " -2*eta*(0.28125 - 0.28125*xi)*(3*eta + 1) + 3*(0.28125 - 0.28125*xi)*(1 - eta**2)]\n",
            "[-0.28125*(1 - 3*eta)*(1 - eta**2)\n",
            " -2*eta*(0.28125 - 0.28125*xi)*(1 - 3*eta) - 3*(0.28125 - 0.28125*xi)*(1 - eta**2)]\n"
          ]
        }
      ]
    },
    {
      "cell_type": "code",
      "source": [
        "N_diff=[]\n",
        "for i in range(len(N)):\n",
        "  N_diff.append(J1@z[i])\n",
        "  print(sym.simplify(N_diff[i]))"
      ],
      "metadata": {
        "colab": {
          "base_uri": "https://localhost:8080/"
        },
        "id": "d6euAmVix2WZ",
        "outputId": "e52a22fe-7221-44b9-a161-92327a391746"
      },
      "execution_count": null,
      "outputs": [
        {
          "output_type": "stream",
          "name": "stdout",
          "text": [
            "[(-14.0625*eta**3*xi + 21.09375*eta**3 + 0.703125*eta**2*xi - 7.734375*eta**2 + 14.0625*eta*xi**3 - 7.03125*eta*xi**2 + 4.21875*eta*xi - 12.03125*eta - 23.203125*xi**3 + 16.171875*xi**2 + 10.15625*xi - 2.34375)/(43.75*eta - 136.875*xi + 13.125), (11.671875*eta**3*xi - 17.015625*eta**3 - 5.203125*eta**2*xi + 10.546875*eta**2 - 11.671875*eta*xi**3 + 7.3125*eta*xi**2 - 1.40625*eta*xi + 6.359375*eta + 17.71875*xi**3 - 13.359375*xi**2 - 5.734375*xi + 0.78125)/(43.75*eta - 136.875*xi + 13.125)]\n",
            "[(-42.1875*eta*xi**3 + 7.03125*eta*xi**2 + 7.03125*eta + 69.609375*xi**3 - 16.171875*xi**2 - 27.421875*xi + 2.109375)/(43.75*eta - 136.875*xi + 13.125), (35.015625*eta*xi**3 - 10.265625*eta*xi**2 + 0.984375*eta*xi - 4.359375*eta - 53.15625*xi**3 + 16.3125*xi**2 + 17.15625*xi - 1.6875)/(43.75*eta - 136.875*xi + 13.125)]\n",
            "[(42.1875*eta*xi**3 + 7.03125*eta*xi**2 + 7.03125*eta - 69.609375*xi**3 - 16.171875*xi**2 + 27.421875*xi + 2.109375)/(43.75*eta - 136.875*xi + 13.125), (-35.015625*eta*xi**3 - 1.40625*eta*xi**2 + 0.984375*eta*xi - 7.3125*eta + 53.15625*xi**3 + 7.453125*xi**2 - 19.125*xi + 1.265625)/(43.75*eta - 136.875*xi + 13.125)]\n",
            "[(14.0625*eta**3*xi + 21.09375*eta**3 - 0.703125*eta**2*xi - 7.734375*eta**2 - 14.0625*eta*xi**3 - 7.03125*eta*xi**2 - 4.21875*eta*xi - 12.03125*eta + 23.203125*xi**3 + 16.171875*xi**2 - 10.15625*xi - 2.34375)/(43.75*eta - 136.875*xi + 13.125), (-11.671875*eta**3*xi - 18.0*eta**3 + 5.203125*eta**2*xi + 11.53125*eta**2 + 11.671875*eta*xi**3 + 4.359375*eta*xi**2 - 0.5625*eta*xi + 7.453125*eta - 17.71875*xi**3 - 10.40625*xi**2 + 7.703125*xi - 0.3125)/(43.75*eta - 136.875*xi + 13.125)]\n",
            "[(-42.1875*eta**3*xi - 63.28125*eta**3 - 11.953125*eta**2*xi - 4.921875*eta**2 + 4.21875*eta*xi + 25.3125*eta + 13.359375*xi + 6.328125)/(43.75*eta - 136.875*xi + 13.125), (35.015625*eta**3*xi + 54.0*eta**3 - 3.9375*eta**2*xi - 10.265625*eta**2 - 0.421875*eta*xi - 19.40625*eta - 6.46875*xi - 0.140625)/(43.75*eta - 136.875*xi + 13.125)]\n",
            "[(42.1875*eta**3*xi + 63.28125*eta**3 + 26.015625*eta**2*xi + 33.046875*eta**2 + 4.21875*eta*xi - 16.875*eta + 0.703125*xi - 6.328125)/(43.75*eta - 136.875*xi + 13.125), (-35.015625*eta**3*xi - 54.0*eta**3 - 7.734375*eta**2*xi - 14.0625*eta**2 - 0.421875*eta*xi + 18.5625*eta - 5.203125*xi + 1.125)/(43.75*eta - 136.875*xi + 13.125)]\n",
            "[(-14.0625*eta**3*xi - 21.09375*eta**3 - 13.359375*eta**2*xi - 20.390625*eta**2 + 14.0625*eta*xi**3 + 7.03125*eta*xi**2 - 4.21875*eta*xi + 3.59375*eta + 18.984375*xi**3 + 11.953125*xi**2 - 5.46875*xi + 2.34375)/(43.75*eta - 136.875*xi + 13.125), (11.671875*eta**3*xi + 18.0*eta**3 + 6.46875*eta**2*xi + 12.796875*eta**2 - 11.671875*eta*xi**3 - 4.359375*eta*xi**2 + 1.40625*eta*xi - 6.609375*eta - 17.296875*xi**3 - 9.984375*xi**2 + 7.234375*xi - 0.78125)/(43.75*eta - 136.875*xi + 13.125)]\n",
            "[(-42.1875*eta*xi**3 - 7.03125*eta*xi**2 - 7.03125*eta - 56.953125*xi**3 - 11.953125*xi**2 + 14.765625*xi - 2.109375)/(43.75*eta - 136.875*xi + 13.125), (35.015625*eta*xi**3 + 1.40625*eta*xi**2 - 0.984375*eta*xi + 7.3125*eta + 51.890625*xi**3 + 7.03125*xi**2 - 17.859375*xi + 1.6875)/(43.75*eta - 136.875*xi + 13.125)]\n",
            "[(42.1875*eta*xi**3 - 7.03125*eta*xi**2 - 7.03125*eta + 56.953125*xi**3 - 11.953125*xi**2 - 14.765625*xi - 2.109375)/(43.75*eta - 136.875*xi + 13.125), (-35.015625*eta*xi**3 + 10.265625*eta*xi**2 - 0.984375*eta*xi + 4.359375*eta - 51.890625*xi**3 + 15.890625*xi**2 + 15.890625*xi - 1.265625)/(43.75*eta - 136.875*xi + 13.125)]\n",
            "[(14.0625*eta**3*xi - 21.09375*eta**3 + 13.359375*eta**2*xi - 20.390625*eta**2 - 14.0625*eta*xi**3 + 7.03125*eta*xi**2 + 4.21875*eta*xi + 3.59375*eta - 18.984375*xi**3 + 11.953125*xi**2 + 5.46875*xi + 2.34375)/(43.75*eta - 136.875*xi + 13.125), (-11.671875*eta**3*xi + 17.015625*eta**3 - 6.46875*eta**2*xi + 11.8125*eta**2 + 11.671875*eta*xi**3 - 7.3125*eta*xi**2 + 0.5625*eta*xi - 5.515625*eta + 17.296875*xi**3 - 12.9375*xi**2 - 5.265625*xi + 0.3125)/(43.75*eta - 136.875*xi + 13.125)]\n",
            "[(-42.1875*eta**3*xi + 63.28125*eta**3 - 26.015625*eta**2*xi + 33.046875*eta**2 - 4.21875*eta*xi - 16.875*eta - 0.703125*xi - 6.328125)/(43.75*eta - 136.875*xi + 13.125), (35.015625*eta**3*xi - 51.046875*eta**3 + 7.734375*eta**2*xi - 13.078125*eta**2 + 0.421875*eta*xi + 15.609375*eta + 5.203125*xi + 0.140625)/(43.75*eta - 136.875*xi + 13.125)]\n",
            "[(42.1875*eta**3*xi - 63.28125*eta**3 + 11.953125*eta**2*xi - 4.921875*eta**2 - 4.21875*eta*xi + 25.3125*eta - 13.359375*xi + 6.328125)/(43.75*eta - 136.875*xi + 13.125), (-35.015625*eta**3*xi + 51.046875*eta**3 + 3.9375*eta**2*xi - 9.28125*eta**2 + 0.421875*eta*xi - 16.453125*eta + 6.46875*xi - 1.125)/(43.75*eta - 136.875*xi + 13.125)]\n"
          ]
        }
      ]
    },
    {
      "cell_type": "code",
      "source": [
        "sym.simplify(N_diff[0])"
      ],
      "metadata": {
        "colab": {
          "base_uri": "https://localhost:8080/",
          "height": 67
        },
        "id": "xsyoLtVXx7K3",
        "outputId": "95ebf244-c392-4c7c-f305-fc86d7bc9fff"
      },
      "execution_count": null,
      "outputs": [
        {
          "output_type": "execute_result",
          "data": {
            "text/plain": [
              "[(-14.0625*eta**3*xi + 21.09375*eta**3 + 0.703125*eta**2*xi - 7.734375*eta**2 + 14.0625*eta*xi**3 - 7.03125*eta*xi**2 + 4.21875*eta*xi - 12.03125*eta - 23.203125*xi**3 + 16.171875*xi**2 + 10.15625*xi - 2.34375)/(43.75*eta - 136.875*xi + 13.125), (11.671875*eta**3*xi - 17.015625*eta**3 - 5.203125*eta**2*xi + 10.546875*eta**2 - 11.671875*eta*xi**3 + 7.3125*eta*xi**2 - 1.40625*eta*xi + 6.359375*eta + 17.71875*xi**3 - 13.359375*xi**2 - 5.734375*xi + 0.78125)/(43.75*eta - 136.875*xi + 13.125)]"
            ],
            "text/latex": "$\\displaystyle \\left[\\begin{matrix}\\frac{- 14.0625 \\eta^{3} \\xi + 21.09375 \\eta^{3} + 0.703125 \\eta^{2} \\xi - 7.734375 \\eta^{2} + 14.0625 \\eta \\xi^{3} - 7.03125 \\eta \\xi^{2} + 4.21875 \\eta \\xi - 12.03125 \\eta - 23.203125 \\xi^{3} + 16.171875 \\xi^{2} + 10.15625 \\xi - 2.34375}{43.75 \\eta - 136.875 \\xi + 13.125} & \\frac{11.671875 \\eta^{3} \\xi - 17.015625 \\eta^{3} - 5.203125 \\eta^{2} \\xi + 10.546875 \\eta^{2} - 11.671875 \\eta \\xi^{3} + 7.3125 \\eta \\xi^{2} - 1.40625 \\eta \\xi + 6.359375 \\eta + 17.71875 \\xi^{3} - 13.359375 \\xi^{2} - 5.734375 \\xi + 0.78125}{43.75 \\eta - 136.875 \\xi + 13.125}\\end{matrix}\\right]$"
          },
          "metadata": {},
          "execution_count": 126
        }
      ]
    }
  ]
}